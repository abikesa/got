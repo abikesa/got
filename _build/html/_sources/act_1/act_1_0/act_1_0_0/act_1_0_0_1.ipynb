{
 "cells": [
  {
   "cell_type": "markdown",
   "metadata": {},
   "source": [
    "#                                                                                   \n",
    "\n",
    "# 1\n",
    "\n",
    "<span style=\"font-size: 1.2em; font-weight: bold; position: relative; top: 0.0em;\">Patient Summary (For Reference During Call)</span>\n",
    "- **Age**: Lydia Gasaatura is `67 year old woman (DOB: 09/16/1955)`.\n",
    "  \n",
    "- **Current Medication**: `She is currently using Mixtard 30`&reg;, which is a 30/70 mix of soluble insulin and isophane insulin. Specifically, it contains 30% soluble (fast-acting) insulin and 70% isophane (intermediate-acting) insulin.\n",
    "\n",
    "- **Dosage**: She administers 25 units of this insulin in the morning before breakfast and 25 units in the evening before dinner. This equates to 0.25 ml per injection since the insulin concentration is 100 IU/ml (in a 10ml vial).\n",
    "\n",
    "- **Expected Refill**: 0.5 ml per day x 30 days = 15 ml per month, which is the amount of insulin that she needs to order this September. Because this can only be ordered in 10 ml vials, she needs to order two 10 ml vials\n",
    "\n",
    "- Local Availability: `Are 10 ml vials available at the local pharmacy? Is the KwikPen also available (preferred by Mom)?`\n",
    "\n",
    "- **Price**: 70/30 Humulin≈ 10 ml vials cost \\$173.00 per vial. She needs to order 2 vials per month, so the total cost is \\$346.00 per month. (Novolin&reg; 70/30 10 ml vials cost \\$177.00 per vial, so the total cost of that alternative is \\$354.00 per month).\n",
    "\n",
    "<span style=\"font-size: 1.2em; font-weight: bold; position: relative; top: 0.0em;\">What to Expect (If Pharmacist is Familiar with Mixtard&reg;)</span>\n",
    "- **Mixtard 30&reg;**: The naming reflects that the formulation contains 30% soluble insulin (fast-acting) and 70% isophane insulin (intermediate-acting). \n",
    "\n",
    "- **U.S. Equivalent (Novolin&reg; 70/30 or Humulin&reg; 70/30)**: In the U.S., the naming convention for equivalent insulins is reversed, starting with the percentage of the intermediate-acting insulin (isophane) followed by the fast-acting (soluble) insulin. So, 70/30 in the U.S. essentially means the same formulation as Mixtard 30/70: 70% isophane insulin and 30% soluble insulin.\n",
    "\n",
    "We will call in the prescription once the pharmacist confirm the available formulations and their equivalence to Mixtard&reg;."
   ]
  }
 ],
 "metadata": {
  "kernelspec": {
   "display_name": "Python 3",
   "language": "python",
   "name": "python3"
  },
  "language_info": {
   "codemirror_mode": {
    "name": "ipython",
    "version": 3
   },
   "file_extension": ".py",
   "mimetype": "text/x-python",
   "name": "python",
   "nbconvert_exporter": "python",
   "pygments_lexer": "ipython3",
   "version": "3.11.2"
  },
  "orig_nbformat": 4
 },
 "nbformat": 4,
 "nbformat_minor": 2
}
