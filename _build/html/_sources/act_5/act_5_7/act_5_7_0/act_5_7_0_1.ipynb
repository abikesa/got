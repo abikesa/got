{
 "cells": [
  {
   "cell_type": "markdown",
   "metadata": {},
   "source": [
    "#                                                                                    "
   ]
  },
  {
   "cell_type": "markdown",
   "metadata": {},
   "source": [
    "# 0\n",
    "\n",
    "![](gen_muzaale.png)\n",
    "\n",
    "# 1\n",
    "\n",
    "Here's an attempt to restore oral tradition in a world that values the verb `to read` over `to listen`.\n",
    "\n",
    "The first release of this book will harken to the present time and lay out a few idioms in print for you to read. But the anticipated release of `book 1.2` will append audio and video clips of the authors narrative over the written word in `book 1.0`, as was done in all societies from the beginning of time.\n",
    "\n",
    "One may talk of an `ancién regime`. Another of a `zeitgeist`. Still another of `biding ones time.` It may seem to some that I belong to an earlier epoch in Uganda's history since I was born in 1939 whereas our nation gained independence in 1961. But I'll persuade you otherwise using todays zeitgeist -- including  tools such as this self-published .html book -- that oral tradition is making a long overdue comeback. Yes, I did bide my time over the last few decades as I watched trends come and go in the world of publishing. But my time has finally come. And I will use it to share what I've always wanted to convey to the next generation.\n",
    "\n",
    "\n",
    "P.J.M\n",
    "\n",
    "Munyonyo\n",
    "\n",
    "April 4, 2023 \n",
    "\n",
    "\n",
    "---\n",
    "\n",
    "# 2\n",
    "\n",
    "August 20, 2020 at 3:10 AM (EST)\n",
    "\n",
    "Good morning, Kadi; l always celebrate hearing from you .As you know, ours is not a literate. I learned from your late grandfather, with whom you shared the clan name, \" Dhatemwa kulala aye dhayawukana emibala (I.e.they diverge when it comes to the sound they make and the philosophy of life they articulate.This was especially noteworthy in the case of twins who frequently in their behaviour preferences!\n",
    "\n",
    "Literally, the name conveys the need to manage your expectations of people accordingly.\n",
    "\n",
    "\n",
    "\"Although drums my have been made from stem of a tree they don't sound the same.\"\n",
    "\n",
    "whatsApp: Munyonyo -> Baltimore\n",
    "\n",
    "# 3\n",
    "\n",
    "![](gen_muinda.png)\n",
    "\n",
    "Pictured: Maj. General Patrick E. Muinda. Not to be confused with the General Patrick J. Muzaale on the book cover!\n",
    "\n",
    "# 4\n",
    "\n",
    "Igumba iwala lifa ni ilizala. (The drum that is not beaten is the one that is not heard.) - copilot\n",
    "\n",
    "# 5\n",
    "\n",
    "```\n",
    "It's been quite an ache\n",
    "Going about trying to bake\n",
    "A tasty sweet poetry cake\n",
    "For you to partake\n",
    "\n",
    "And for all my pains\n",
    "There's hardly been any gains\n",
    "Except for what here reigns:\n",
    "Poetry with no brains!\n",
    "\n",
    "Forgive me if I put you to sleep\n",
    "Because you read these rhymes\n",
    "Pardon me if you hereby weep \n",
    "For the poetry of our times:\n",
    "\n",
    "I am but a doctor:\n",
    "A poet with no mentor;\n",
    "About to enter--\n",
    "Something beyond my mental\n",
    "\n",
    "```"
   ]
  }
 ],
 "metadata": {
  "kernelspec": {
   "display_name": "Python 3",
   "language": "python",
   "name": "python3"
  },
  "language_info": {
   "codemirror_mode": {
    "name": "ipython",
    "version": 3
   },
   "file_extension": ".py",
   "mimetype": "text/x-python",
   "name": "python",
   "nbconvert_exporter": "python",
   "pygments_lexer": "ipython3",
   "version": "3.11.2"
  },
  "orig_nbformat": 4
 },
 "nbformat": 4,
 "nbformat_minor": 2
}
