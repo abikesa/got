{
 "cells": [
  {
   "cell_type": "markdown",
   "metadata": {},
   "source": [
    "#                                                                                  "
   ]
  },
  {
   "cell_type": "markdown",
   "metadata": {},
   "source": [
    "# 1. [ajkd review](https://www.editorialmanager.com/ajkd/default2.aspx)\n",
    "\n",
    "+ review cltx \n",
    "+ any outstanding?\n",
    "+ what of that aging paper?\n",
    "\n",
    "# 2. manuscript\n",
    "\n",
    "+ added it to repo\n",
    "+ its here: act_5/act_5_5/act_5_5_0/act_5_5_0_1.ipynb\n",
    "+ work on this tonight \n",
    "\n",
    "# 3. chatgpt\n",
    "\n",
    "+ put it to good use\n",
    "+ see if it can help edit final\n",
    "+ document stuff here\n",
    "+ create a repo for reviews?\n",
    "+ both as editor, review, author"
   ]
  }
 ],
 "metadata": {
  "kernelspec": {
   "display_name": "Python 3",
   "language": "python",
   "name": "python3"
  },
  "language_info": {
   "codemirror_mode": {
    "name": "ipython",
    "version": 3
   },
   "file_extension": ".py",
   "mimetype": "text/x-python",
   "name": "python",
   "nbconvert_exporter": "python",
   "pygments_lexer": "ipython3",
   "version": "3.11.2"
  }
 },
 "nbformat": 4,
 "nbformat_minor": 2
}