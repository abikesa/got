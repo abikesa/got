{
 "cells": [
  {
   "cell_type": "markdown",
   "metadata": {},
   "source": [
    "#                                                                                  "
   ]
  },
  {
   "cell_type": "markdown",
   "metadata": {},
   "source": [
    "When replying, type your text above this line.\n",
    "Communication from the Public Access Support Center\n",
    "\n",
    "Dear Principal Investigator, \n",
    "\n",
    "Re: Your upcoming RPPR submission\n",
    "\n",
    "\n",
    "Your Research Performance Progress Report (RPPR) is due in the next few months. To avoid processing and possible funding delays, please do the following as soon as possible: \n",
    "\n",
    "Step 1. Generate a list in your [eRA Commons](https://public.era.nih.gov/commonsplus/public/login.era?TARGET=https%3A%2F%2Fpublic.era.nih.gov%3A443%2Fcommonsplus) linked [My Bibliography](https://www.ncbi.nlm.nih.gov/books/NBK53595/) account of the papers you are required to report on your RPPR. Be sure to keep this list current as your RPPR deadline approaches. \n",
    "\n",
    "Step 2. Ensure all of the papers on the list are compliant with the public access policy. For step-by-step instructions on how to bring a paper into compliance, please use the \"[Show me specific instructions](https://publicaccess.nih.gov/determine-applicability.htm?utm_source=newsletter-link-1&utm_medium=email&utm_campaign=dearpiemail) for my publication\" link on our [Public Access homepage](https://publicaccess.nih.gov). \n",
    "\n",
    "For additional [training](https://publicaccess.nih.gov/communications.htm) and self-help materials please take a look at the following: \n",
    "\n",
    "[Public Access Quick Facts](https://publicaccess.nih.gov/communications.htm?utm_source=newsletter-link-2&utm_medium=email&utm_campaign=dearpiemail): When and How to Comply and How to Correct Non-Compliant Papers \n",
    "My NCBI overview video \n",
    "My Bibliography overview video \n",
    "Linking eRA Commons accounts to My NCBI instructions \n",
    "Determining compliance with the NIH Public Access Policy on My Bibliography: Instructions overview \n",
    "\n",
    "If you have any questions about the NIH Public Access Policy or need help bringing a paper, or an award, into compliance please contact the Public Access Support Center at Public Access. If you are unsure about any aspect of the NIH Public Access Policy, please obtain clarification before submitting a noncompliant application or report. Regards, \n",
    "Public Access Support Center \n",
    "For more information, including FAQs, visit http://publicaccess.nih.gov \n"
   ]
  }
 ],
 "metadata": {
  "kernelspec": {
   "display_name": "Python 3",
   "language": "python",
   "name": "python3"
  },
  "language_info": {
   "codemirror_mode": {
    "name": "ipython",
    "version": 3
   },
   "file_extension": ".py",
   "mimetype": "text/x-python",
   "name": "python",
   "nbconvert_exporter": "python",
   "pygments_lexer": "ipython3",
   "version": "3.11.2"
  }
 },
 "nbformat": 4,
 "nbformat_minor": 2
}