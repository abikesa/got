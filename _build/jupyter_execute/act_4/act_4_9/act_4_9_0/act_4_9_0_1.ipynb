{
 "cells": [
  {
   "cell_type": "markdown",
   "metadata": {},
   "source": [
    "#                                                                                    \n",
    "\n",
    "+ R03/R21 -- Oct 16, 2023 (Monday)\n",
    "+ RMS would need this by Oct 1, 2023 (Sunday)\n",
    "+ Expect email from Angie"
   ]
  }
 ],
 "metadata": {
  "kernelspec": {
   "display_name": "Python 3",
   "language": "python",
   "name": "python3"
  },
  "language_info": {
   "codemirror_mode": {
    "name": "ipython",
    "version": 3
   },
   "file_extension": ".py",
   "mimetype": "text/x-python",
   "name": "python",
   "nbconvert_exporter": "python",
   "pygments_lexer": "ipython3",
   "version": "3.11.2"
  }
 },
 "nbformat": 4,
 "nbformat_minor": 2
}