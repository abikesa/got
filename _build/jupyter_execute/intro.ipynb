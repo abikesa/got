{
 "cells": [
  {
   "cell_type": "markdown",
   "metadata": {},
   "source": [
    "#                                                                                  \n",
    "\n",
    "\n",
    "\n",
    "\n",
    "\n",
    "\n",
    "\n",
    "\n",
    "<Details>\n",
    "<Summary></Summary>\n",
    "\n",
    "GitHub Universe 23<br>\n",
    "November 8-9, 2023<br>\n",
    "<span style=\"color:grey;\">Yerba Buena, Center for the Arts, San Fransisco, CA</span><br>\n",
    "\n",
    "Google Cloud Next ’24<br>\n",
    "April 9-11, 2024<br>\n",
    "<span style=\"color:grey;\">Mandalay Bay, Convention Center, Las Vegas, NV</span><br>\n",
    "</Details>"
   ]
  }
 ],
 "metadata": {
  "kernelspec": {
   "display_name": "Python 3",
   "language": "python",
   "name": "python3"
  },
  "language_info": {
   "codemirror_mode": {
    "name": "ipython",
    "version": 3
   },
   "file_extension": ".py",
   "mimetype": "text/x-python",
   "name": "python",
   "nbconvert_exporter": "python",
   "pygments_lexer": "ipython3",
   "version": "3.11.2"
  }
 },
 "nbformat": 4,
 "nbformat_minor": 2
}