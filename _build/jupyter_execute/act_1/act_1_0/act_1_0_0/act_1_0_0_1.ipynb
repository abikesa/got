{
 "cells": [
  {
   "cell_type": "markdown",
   "metadata": {},
   "source": [
    "#                                                                                   \n",
    "\n",
    "# 1\n",
    "\n",
    "### Patient Summary (Revised)\n",
    "- **Age**: The patient is 67 years old as of 2023.\n",
    "  \n",
    "- **Current Medication**: The patient is currently using Mixtard 30, which is a 30/70 mix of soluble insulin and isophane insulin. Specifically, it contains 30% soluble (fast-acting) insulin and 70% isophane (intermediate-acting) insulin.\n",
    "\n",
    "- **Dosage**: The patient administers 25 units of this insulin in the morning before breakfast and 25 units in the evening before dinner. This equates to 0.25 ml per injection if the insulin concentration is 100 IU/ml.\n",
    "\n",
    "### Mixtard 30/70 vs. U.S. Equivalent (70/30)\n",
    "\n",
    "- **Mixtard 30**: The naming reflects that the formulation contains 30% soluble insulin (fast-acting) and 70% isophane insulin (intermediate-acting). \n",
    "\n",
    "- **U.S. Equivalent (Novolin 70/30 or Humulin 70/30)**: In the U.S., the naming convention for equivalent insulins is reversed, starting with the percentage of the intermediate-acting insulin (isophane) followed by the fast-acting (soluble) insulin. So, 70/30 in the U.S. essentially means the same formulation as Mixtard 30/70: 70% isophane insulin and 30% soluble insulin.\n",
    "\n",
    "The order of the percentages in the name might be different, but the insulins are functionally equivalent, containing the same proportions of fast-acting to intermediate-acting insulin. Always consult a healthcare provider to ensure that any switch between insulins is done safely and effectively."
   ]
  }
 ],
 "metadata": {
  "kernelspec": {
   "display_name": "Python 3",
   "language": "python",
   "name": "python3"
  },
  "language_info": {
   "codemirror_mode": {
    "name": "ipython",
    "version": 3
   },
   "file_extension": ".py",
   "mimetype": "text/x-python",
   "name": "python",
   "nbconvert_exporter": "python",
   "pygments_lexer": "ipython3",
   "version": "3.11.2"
  }
 },
 "nbformat": 4,
 "nbformat_minor": 2
}