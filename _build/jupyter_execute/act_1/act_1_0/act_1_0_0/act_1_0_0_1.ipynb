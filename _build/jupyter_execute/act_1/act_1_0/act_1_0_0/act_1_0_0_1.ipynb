{
 "cells": [
  {
   "cell_type": "markdown",
   "metadata": {},
   "source": [
    "#                                                                                   \n",
    "\n",
    "# 1\n",
    "\n",
    "<span style=\"font-size: 1.2em; font-weight: bold; position: relative; top: 0.0em;\">Patient Summary (For Reference During Call)</span>\n",
    "\n",
    "- **Age**: Lydia Gasaatura is a 67-year-old woman; she is my mother (DOB: 09/16/1955).\n",
    "\n",
    "- **Current Medication**: She is currently using Mixtard 30&reg;, a European brand of insulin. This insulin is a 30/70 mix of soluble insulin and isophane insulin, containing 30% soluble (fast-acting) insulin and 70% isophane (intermediate-acting) insulin.\n",
    "\n",
    "- **Dosage**: Lydia administers 25 units of Mixtard 30&reg; in the morning before breakfast and 25 units in the evening before dinner. This equates to 0.25 ml per injection, given that the insulin concentration is 100 IU/ml in a 10 ml vial.\n",
    "\n",
    "- **Expected Refill**: She will need 15 ml of insulin for a month (0.5 ml/day x 30 days). Since the medication is available only in 10 ml vials, she will need to order two vials. A doctor will call in the prescription for the equivalent of two 10 ml vials of Mixtard 30&reg; to the pharmacy.\n",
    "\n",
    "- **Local Availability**: Are the equivalent of 10 ml vials of Mixtard 30&reg; available at your pharmacy? Is there also an option for the KwikPen&reg;, as that is her preferred method of sub-cutaneous administration?\n",
    "\n",
    "<span style=\"font-size: 1.2em; font-weight: bold; position: relative; top: 0.0em;\">What to Expect (If Pharmacist is Familiar with Mixtard&reg;)</span>\n",
    "\n",
    "- **Price**: Humulin&reg; 70/30 10 ml vials cost \\$173.00 per vial. She will need to order two vials per month, making the total cost \\$346.00. As an alternative, Novolin&reg; 70/30 10 ml vials cost \\$177.00 each, bringing the total cost to \\$354.00 per month.\n",
    "\n",
    "- **Mixtard 30&reg;**: This medication contains a 30/70 mix of soluble (fast-acting) and isophane (intermediate-acting) insulin.\n",
    "\n",
    "- **U.S. Equivalent (Novolin&reg; 70/30 or Humulin&reg; 70/30)**: In the United States, the naming convention for similar insulin formulations is reversed. Here, 70/30 denotes 70% isophane (intermediate-acting) insulin and 30% soluble (fast-acting) insulin, which is essentially the same formulation as Mixtard 30&reg;.\n"
   ]
  }
 ],
 "metadata": {
  "kernelspec": {
   "display_name": "Python 3",
   "language": "python",
   "name": "python3"
  },
  "language_info": {
   "codemirror_mode": {
    "name": "ipython",
    "version": 3
   },
   "file_extension": ".py",
   "mimetype": "text/x-python",
   "name": "python",
   "nbconvert_exporter": "python",
   "pygments_lexer": "ipython3",
   "version": "3.11.2"
  }
 },
 "nbformat": 4,
 "nbformat_minor": 2
}